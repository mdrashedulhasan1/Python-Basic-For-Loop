{
  "nbformat": 4,
  "nbformat_minor": 0,
  "metadata": {
    "colab": {
      "name": "For_Loop.ipynb",
      "provenance": [],
      "collapsed_sections": [],
      "authorship_tag": "ABX9TyNHaSetGVrWSiJ1OJA+YDrz",
      "include_colab_link": true
    },
    "kernelspec": {
      "name": "python3",
      "display_name": "Python 3"
    },
    "language_info": {
      "name": "python"
    }
  },
  "cells": [
    {
      "cell_type": "markdown",
      "metadata": {
        "id": "view-in-github",
        "colab_type": "text"
      },
      "source": [
        "<a href=\"https://colab.research.google.com/github/mdrashedulhasan1/Python-Basic-For-Loop/blob/main/For_Loop.ipynb\" target=\"_parent\"><img src=\"https://colab.research.google.com/assets/colab-badge.svg\" alt=\"Open In Colab\"/></a>"
      ]
    },
    {
      "cell_type": "code",
      "metadata": {
        "colab": {
          "base_uri": "https://localhost:8080/"
        },
        "id": "GM_euj2UQ5p1",
        "outputId": "cac323cb-44b0-4798-9504-3c46cd91abad"
      },
      "source": [
        "# x = int(input(\"Enter your input: \"))\n",
        "# print(\"result:\",x)\n",
        "\n",
        "# x,y = int(input(\"Enter first number: \")),int(input(\"Enter second number: \"))\n",
        "# result = x+y\n",
        "# print(\"Final result:\",result)\n",
        "\n",
        "# Loop\n",
        "\n",
        "# x = [2,3,5,7,8,3,2]\n",
        "# for i in x:\n",
        "#   print(i)\n",
        "\n",
        "# x = 'tapu'\n",
        "# for i in x:\n",
        "#   print(i)\n",
        "\n",
        "# for i in [1,4,'tapu',20.39]:\n",
        "#   print(i)\n",
        "\n",
        "# for i in range(10):\n",
        "#   print(i)\n",
        "\n",
        "# for i in range(1,11,2):\n",
        "#   print(i)\n",
        "\n",
        "# for i in range(10,0,-2):\n",
        "#   print(i)\n",
        "\n",
        "# for i in range(1,11):\n",
        "#   if i%2!=0:\n",
        "#     print(\"Odd Number:\",i)\n",
        "#   else:\n",
        "#     print(\"Even Number:\",i)\n",
        "\n",
        "# sum=0\n",
        "# for i in range(3):\n",
        "#   x = int(input(\"Enter any input:\"))\n",
        "#   sum=sum+x\n",
        "# print(\"Final result\",sum)\n",
        "\n",
        "# list=[]\n",
        "# for i in range(3):\n",
        "#   allNumber=input(\"Enter any number:\")\n",
        "#   list.append(allNumber)\n",
        "# x = int(list[0])\n",
        "# y = int(list[1])\n",
        "# z = int(list[2])\n",
        "# result = x+y+z\n",
        "# print(\"This is our final result\",result)\n",
        "\n",
        "#####\n",
        "#####\n",
        "#####\n",
        "#####\n",
        "#####\n",
        "# for i in range(5):\n",
        "#   for j in range(5):\n",
        "#     print(\"#\",end=\"\")\n",
        "#   print()\n",
        "\n",
        "# *\n",
        "# **\n",
        "# ***\n",
        "# ****\n",
        "# *****\n",
        "# for i in range(5):\n",
        "#   for j in range(i+1):\n",
        "#     print(\"*\",end=\"\")\n",
        "#   print()\n",
        "\n",
        "# *****\n",
        "# ****\n",
        "# ***\n",
        "# **\n",
        "# *\n",
        "# for i in range(5):\n",
        "#   for j in range(5-i):\n",
        "#     print(\"*\",end=\"\")\n",
        "#   print()\n",
        "\n",
        "# *****\n",
        "#  ****\n",
        "#   ***\n",
        "#    **\n",
        "#     *\n",
        "# for i in range(5):\n",
        "#   for j in range(i):\n",
        "#     print(\" \",end=\"\")\n",
        "#   for k in range(5-i):\n",
        "#     print(\"*\",end=\"\")\n",
        "#   print()\n",
        "\n",
        "#     *\n",
        "#    **\n",
        "#   ***\n",
        "#  ****\n",
        "# *****\n",
        "# for i in range(5):\n",
        "#   for j in range(4-i):\n",
        "#     print(\" \",end=\"\")\n",
        "#   for k in range(i+1):\n",
        "#     print(\"*\",end=\"\")\n",
        "#   print()\n"
      ],
      "execution_count": 39,
      "outputs": [
        {
          "output_type": "stream",
          "name": "stdout",
          "text": [
            "    *\n",
            "   **\n",
            "  ***\n",
            " ****\n",
            "*****\n"
          ]
        }
      ]
    }
  ]
}